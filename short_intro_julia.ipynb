{
 "cells": [
  {
   "cell_type": "markdown",
   "metadata": {},
   "source": [
    "# 数値計算が専門でない理系向けのJulia入門\n",
    "\n",
    "- 2020/12/21 富谷昭夫　http://www2.yukawa.kyoto-u.ac.jp/~akio.tomiya/\n",
    "- 2024/11/06 バージョン\n",
    "\n",
    "julia version v1.11.1 on m1 mac で動作確認。\n",
    "\n",
    "## なぜ書いた？\n",
    "\n",
    "1. 共同研究者がJulia をやりたいと言ったので。\n",
    "2. ミニマムのレビューがあってもいいかなということで。\n",
    "3. 備忘録。"
   ]
  },
  {
   "cell_type": "markdown",
   "metadata": {},
   "source": [
    "## だれ？\n",
    "\n",
    "東京女子大学の富谷です。\n",
    "機械学習を素粒子理論物理に使いたい人です。<br>\n",
    "詳細は http://www2.yukawa.kyoto-u.ac.jp/~akio.tomiya/aboutme.html など。\n",
    "\n",
    "Twitter: https://twitter.com/TomiyaAkio\n",
    "\n",
    "Zenn: https://zenn.dev/akio_tomiya\n",
    "\n",
    "書いた本: \n",
    "https://note.com/tomiya_phys/n/n0f7364fa1f98"
   ]
  },
  {
   "cell_type": "markdown",
   "metadata": {},
   "source": [
    "### なぜ理系向け？\n",
    "\n",
    "計算の例や用語として理系向けだと思われます。\n",
    "\n",
    "数値計算は大学の講義で耳にしたことあるくらいの知識を仮定しています。"
   ]
  },
  {
   "cell_type": "markdown",
   "metadata": {},
   "source": [
    "### 参考文献\n",
    "\n",
    "1. 1からわかるJulia https://amzn.to/4fdSImD 電子版あり(2020/3/26発売)\n",
    "2. 1週間で学べる!Julia数値計算プログラミング https://amzn.to/48H4ZOe (2022/6/23)\n",
    "3. Juliaプログラミングクックブック https://amzn.to/4fg2vbO (2019/10/19)\n",
    "4. Juliaではじめる数値計算入門 https://amzn.to/3Cd6rM7 (2024/5/13)\n",
    "5. 実践Julia入門 https://amzn.to/3YRCHgx (2023/3/15)\n",
    "6. Juliaプログラミング大全 https://amzn.to/3NWWe95 (2023/6/1)\n",
    "7. https://akio-tomiya.github.io/julia_in_physics/\n",
    "8. https://akio-tomiya.github.io/julia_imi_workshop2023/\n",
    "\n",
    "[2020年](https://github.com/akio-tomiya/intro_julia_minimum) から比べてだいぶ増えました。\n",
    "この他、公式サイトなどもある。またYoutube に多数の動画もある。"
   ]
  },
  {
   "cell_type": "markdown",
   "metadata": {},
   "source": [
    "<font color=\"red\">書いていないことも多数あるが、それらが重要でないわけでない。またそれらは上の参考文献などで補って欲しい。</font>"
   ]
  },
  {
   "cell_type": "markdown",
   "metadata": {},
   "source": [
    "## Julia とは？\n",
    "\n",
    "Julia は2018年にバージョン1が公開されたオープンソースの科学技術計算言語で、 Fortranの様に高速でかつPythonの様に生産性の高い言語です。 Julia はすでに様々な分野において活用が始まっています。作成者による以下の文章がJulia を体現していると言えるでしょう。\n",
    "\n",
    "なぜ僕らはJuliaを作ったか（翻訳）https://marui.hatenablog.com/entry/20120221/1329823079\n",
    "\n",
    "    僕らが欲しい言語はこんな感じだ。まず、ゆるいライセンスのオープンソースで、Cの速度とRubyの動的さが欲しい。Lispのような真のマクロが使える同図象性のある言語で、Matlabのように分かりやすい数学の記述をしたい。Pythonのように汎用的に使いたいし、Rの統計処理、Perlの文字列処理、Matlabの線形代数計算も要る。シェルのように簡単にいくつかのパーツをつなぎ合わせたい。チョー簡単に習えて、超上級ハッカーも満足する言語。インタラクティブに使えて、かつコンパイルできる言語が欲しい。\n",
    "    (中略)\n",
    "    僕らがごまかしようのないほど欲張りなのは分かってるけど、それでもぜんぶ欲しいんだ。二年半ほど前、この欲にまみれた言語を作り始めた。まだ完成してないけど、そろそろ1.0のリリースの時期だ。僕らが作った言語の名前はJulia。すでに僕らの無礼な要求に9割方は応えてくれてるけど、ちゃんとした形になるためには僕ら以外の要求も聞かないといけない。だから、君がもし欲張りで理不尽でわがままなプログラマなら、ちょいとこいつを試してもらいたいんだ。\n",
    "    \n",
    "そして実際速く、2024年11月現在、v1.11.1 (October 16, 2024)までリリースされています。\n",
    "\n",
    "下記ベンチマークも参考のこと\n",
    "(参考) https://modelingguru.nasa.gov/docs/DOC-2625"
   ]
  },
  {
   "cell_type": "markdown",
   "metadata": {},
   "source": [
    "## インストール\n",
    "\n",
    "2024年現在、\n",
    "```shellscript\n",
    "curl -fsSL https://install.julialang.org | sh\n",
    "```\n",
    "とターミナルに入力すればインストールできます。\n",
    "\n",
    "またそれ以外にはJulia の公式サイト https://julialang.org/downloads/ を参照のこと。\n",
    "\n",
    "実行法は3つあり、\n",
    "\n",
    "1. REPL (repeat-evaluate print loop)。Julia の実行ファイルを起動すると立ち上がるコマンドプロンプト。簡単な計算ならこれで\n",
    "OK\n",
    "2. Jupyter notebook Pythonでよく使われるJupyter でももちろんJulia を使える(Jupyter のJはJuliaのJ)。 REPL 上で ``using Pkg; Pkg.add(\"IJulia\")`` を実行すれば使えるようになる。\n",
    "3. スクリプトとして実行。パスが通っていれば、``julia 実行ファイル``とすると使える。実行後にJIT(Just-in-time)コンパイラが\n",
    "走って、動作部品ごとにコンパイルが自動的に通り、実行される。\n",
    "\n",
    "このノートでは、Jupyter notebookでの実行を念頭において説明するが、実際はどれでも良いです。\n",
    "\n"
   ]
  },
  {
   "cell_type": "markdown",
   "metadata": {},
   "source": [
    "また、この[ノートブック](https://github.com/akio-tomiya/intro_julia_minimum2024/blob/main/short_intro_julia.ipynb)は、ダウンロードしてローカルでも動きます。[Google Colab で動かす方法](https://github.com/Kazuhito00/Google-Colab-Julia?tab=readme-ov-file)もあります。"
   ]
  },
  {
   "cell_type": "markdown",
   "metadata": {},
   "source": [
    "## Hello world\n",
    "\n",
    "まずは画面にhello world を出してましょう。2種類の方法があります。"
   ]
  },
  {
   "cell_type": "code",
   "execution_count": null,
   "metadata": {},
   "outputs": [],
   "source": [
    "print(\"hello world\")"
   ]
  },
  {
   "cell_type": "code",
   "execution_count": null,
   "metadata": {},
   "outputs": [],
   "source": [
    "println(\"hello world\")"
   ]
  },
  {
   "cell_type": "markdown",
   "metadata": {},
   "source": [
    "違いは、printは最後に改行が入らず、printlnは改行が入ります。\n",
    "println はprint line のことらしいです。\n",
    "\n",
    "変数の表示も簡単にできます。"
   ]
  },
  {
   "cell_type": "code",
   "execution_count": null,
   "metadata": {},
   "outputs": [],
   "source": [
    "a = 12\n",
    "println(\"変数=$a\")"
   ]
  },
  {
   "cell_type": "markdown",
   "metadata": {},
   "source": [
    "また、print内で計算もできます。"
   ]
  },
  {
   "cell_type": "code",
   "execution_count": null,
   "metadata": {},
   "outputs": [],
   "source": [
    "a = 12\n",
    "println(\"変数=$(a/2)\")"
   ]
  },
  {
   "cell_type": "markdown",
   "metadata": {},
   "source": [
    "演算で他のプログラミング言語と大きく違うところは、ベキ乗を\\^2 と書くところ、また円周率をπとかけるところでしょう。\n",
    "たとえば半径2の円の面積を$A$とすると、"
   ]
  },
  {
   "cell_type": "code",
   "execution_count": null,
   "metadata": {},
   "outputs": [],
   "source": [
    "A = π*2^2\n",
    "println(\"面積=$A\")"
   ]
  },
  {
   "cell_type": "markdown",
   "metadata": {},
   "source": [
    "とかけます。定数だけでなく、ギリシャアルファベットの変数も使えるため、教科書に載っている式を書くことができます。"
   ]
  },
  {
   "cell_type": "code",
   "execution_count": null,
   "metadata": {},
   "outputs": [],
   "source": [
    "ξ=1.2\n",
    "println(\"ξ=$ξ\")"
   ]
  },
  {
   "cell_type": "markdown",
   "metadata": {},
   "source": [
    "コメントは、``#``に続けて書けば、その行が改行されるまでコメントして、実行されません。"
   ]
  },
  {
   "cell_type": "code",
   "execution_count": null,
   "metadata": {},
   "outputs": [],
   "source": [
    "println(\"1,2,3\") #実行される\n",
    "#println(\"4,5,6\") #実行されない\n",
    "println(\"7,8,9\") #実行される"
   ]
  },
  {
   "cell_type": "code",
   "execution_count": null,
   "metadata": {},
   "outputs": [],
   "source": [
    "#=\n",
    "複数行の\n",
    "コメントも\n",
    "この通り。\n",
    "=#"
   ]
  },
  {
   "cell_type": "markdown",
   "metadata": {},
   "source": [
    "## 配列と行列\n",
    "\n",
    "数値計算において配列変数は必須です。配列変数は"
   ]
  },
  {
   "cell_type": "code",
   "execution_count": null,
   "metadata": {},
   "outputs": [],
   "source": [
    "a = [];"
   ]
  },
  {
   "cell_type": "markdown",
   "metadata": {},
   "source": [
    "で準備できます。最後のセミコロン; はJupyter 上でJulia を使う際に出力を抑える記号で本質的な意味はないので省いても良いです。\n",
    "もしセミコロンを省くと、"
   ]
  },
  {
   "cell_type": "code",
   "execution_count": null,
   "metadata": {},
   "outputs": [],
   "source": [
    "a = []"
   ]
  },
  {
   "cell_type": "markdown",
   "metadata": {},
   "source": [
    "のように表示されます。\n",
    "また、浮動小数など型を指定したい場合、"
   ]
  },
  {
   "cell_type": "code",
   "execution_count": null,
   "metadata": {},
   "outputs": [],
   "source": [
    "a = Float64[];"
   ]
  },
  {
   "cell_type": "markdown",
   "metadata": {},
   "source": [
    "とすれば良いです。もちろん"
   ]
  },
  {
   "cell_type": "code",
   "execution_count": null,
   "metadata": {},
   "outputs": [],
   "source": [
    "a = [4,3,2,1];\n",
    "println(a)"
   ]
  },
  {
   "cell_type": "markdown",
   "metadata": {},
   "source": [
    "などとすれば、要素をいれて定義できます。\n",
    "浮動小数などを指定して配列を用意するには"
   ]
  },
  {
   "cell_type": "code",
   "execution_count": null,
   "metadata": {},
   "outputs": [],
   "source": [
    "a = Float64[4,3,2,1];\n",
    "println(a)"
   ]
  },
  {
   "cell_type": "markdown",
   "metadata": {},
   "source": [
    "とすれば良いです。また型推定をもちいて"
   ]
  },
  {
   "cell_type": "code",
   "execution_count": null,
   "metadata": {},
   "outputs": [],
   "source": [
    "a = [1.2, 1.3, 1.4]\n",
    "println(a)"
   ]
  },
  {
   "cell_type": "markdown",
   "metadata": {},
   "source": [
    "と自動的に型が決まります。\n",
    "\n",
    "さらに要素を追加したければ、\n",
    "append!もしくは、push!が使用できます。"
   ]
  },
  {
   "cell_type": "code",
   "execution_count": null,
   "metadata": {},
   "outputs": [],
   "source": [
    "a = []\n",
    "append!(a,1)\n",
    "append!(a,3)\n",
    "append!(a,5)\n",
    "println(a)"
   ]
  },
  {
   "cell_type": "markdown",
   "metadata": {},
   "source": [
    "append! の!は、引数(ひきすう)の変数を変える関数であることを明示的にするためにつけるものであり、命名規則の一種です。\n",
    "\n",
    "append!の他にpush!もあるが、配列を追加する時の挙動が下記のように少し異なります。"
   ]
  },
  {
   "cell_type": "code",
   "execution_count": null,
   "metadata": {},
   "outputs": [],
   "source": [
    "a=[]\n",
    "append!(a,[1,2])\n",
    "append!(a,[3,4])\n",
    "println(a)"
   ]
  },
  {
   "cell_type": "code",
   "execution_count": null,
   "metadata": {},
   "outputs": [],
   "source": [
    "a=[]\n",
    "push!(a,[1,2])\n",
    "push!(a,[3,4])\n",
    "println(a)"
   ]
  },
  {
   "cell_type": "markdown",
   "metadata": {},
   "source": [
    "つまり、append! はリストを追加すると、要素を取り出して入れてくれるのに対し、push!はそのリストごと、追加されるわけです。"
   ]
  },
  {
   "cell_type": "markdown",
   "metadata": {},
   "source": [
    "行列は、以下のように作れます。"
   ]
  },
  {
   "cell_type": "code",
   "execution_count": null,
   "metadata": {},
   "outputs": [],
   "source": [
    "M = Float64[\n",
    "     1 2\n",
    "     3 4\n",
    "]"
   ]
  },
  {
   "cell_type": "markdown",
   "metadata": {},
   "source": [
    "見た目をそのままにかけるので便利ですね。\n",
    "\n",
    "型指定しない作り方もできて、型推定を使うなら、"
   ]
  },
  {
   "cell_type": "code",
   "execution_count": null,
   "metadata": {},
   "outputs": [],
   "source": [
    "M = [\n",
    "     1.0 2.0\n",
    "     3.0 4.0\n",
    "    ]"
   ]
  },
  {
   "cell_type": "markdown",
   "metadata": {},
   "source": [
    "としても良いです。\n",
    "\n",
    "行列とベクトル積は、次のようにできます。\n",
    "ベクトルは単に配列として用意して、\n",
    "掛け算をおこなえば良いです。"
   ]
  },
  {
   "cell_type": "code",
   "execution_count": null,
   "metadata": {},
   "outputs": [],
   "source": [
    "M = [\n",
    "     0.0 3.0\n",
    "     3.0 0.0\n",
    "    ]\n",
    "v = [1.0, 2.0]\n",
    "println(M*v)"
   ]
  },
  {
   "cell_type": "markdown",
   "metadata": {},
   "source": [
    "ベクトル同士の演算として下記のものがあります。"
   ]
  },
  {
   "cell_type": "code",
   "execution_count": null,
   "metadata": {},
   "outputs": [],
   "source": [
    "v = [1.0, 2.0]\n",
    "println(v*v')\n",
    "println(v'*v)"
   ]
  },
  {
   "cell_type": "markdown",
   "metadata": {},
   "source": [
    "ここで``'``は共役を取る操作を表します。\n",
    "つまりベクトルと共役ベクトルの積は行列(2階のテンソル)となり、\n",
    "共役ベクトルとベクトルの積は数(つまり内積)となるわけです。"
   ]
  },
  {
   "cell_type": "markdown",
   "metadata": {},
   "source": [
    "このノートでは出てきませんが、複素数配列や複素行列を扱うには、``ComplexF64[]`` を使えば良いです。また虚数単位は、``im``です。"
   ]
  },
  {
   "cell_type": "markdown",
   "metadata": {},
   "source": [
    "配列や行列の要素にアクセスするには、\\[数\\]を変数のあとにつければいいが、\n",
    "インデックスは1から始まることに注意しましょう。"
   ]
  },
  {
   "cell_type": "code",
   "execution_count": null,
   "metadata": {},
   "outputs": [],
   "source": [
    "a = [2,4,6,8]\n",
    "println(\"$(a[1]), $(a[2])\")"
   ]
  },
  {
   "cell_type": "markdown",
   "metadata": {},
   "source": [
    "数学の数列なども``1``始まりが多いようなので、わかりやすいと思います。"
   ]
  },
  {
   "cell_type": "markdown",
   "metadata": {},
   "source": [
    "## 処理順序を変える (if, for, function)\n",
    "\n",
    "\n",
    "ここではプログラムの処理順序を制御する3つの機能``if``、``for``、``function``を紹介します。\n",
    "\n",
    "### if\n",
    "\n",
    "``if`` を使うと、変数の内容によってプログラムの処理を変えることができます、\n",
    "たとえば、変数``a``の偶奇を判別するには、"
   ]
  },
  {
   "cell_type": "code",
   "execution_count": null,
   "metadata": {},
   "outputs": [],
   "source": [
    "a = 2\n",
    "if a%2==0\n",
    "    println(\"$a は偶数\")\n",
    "else\n",
    "    println(\"$a は奇数\")\n",
    "end"
   ]
  },
  {
   "cell_type": "markdown",
   "metadata": {},
   "source": [
    "とできるわけです。また``%``は、あまりを求める演算子です。\n",
    "\n",
    "また、``else`` は省略できるがifブロックは、``if`` ... ``end`` のようにend で終わる必要があります。"
   ]
  },
  {
   "cell_type": "markdown",
   "metadata": {},
   "source": [
    "elseif も以下のようにできます。"
   ]
  },
  {
   "cell_type": "code",
   "execution_count": null,
   "metadata": {},
   "outputs": [],
   "source": [
    "a = 2\n",
    "if a%3==0\n",
    "    println(\"$a 3の倍数\")\n",
    "elseif a%3==1\n",
    "    println(\"$a は3の倍数+1\")\n",
    "else\n",
    "    println(\"$a は上記ではない。\")\n",
    "end"
   ]
  },
  {
   "cell_type": "markdown",
   "metadata": {},
   "source": [
    "### for\n",
    "\n",
    "繰り返し処理はfor でかけます。"
   ]
  },
  {
   "cell_type": "code",
   "execution_count": null,
   "metadata": {},
   "outputs": [],
   "source": [
    "for i=1:3\n",
    "    println(\"繰り返し処理 i=$i 番目\")\n",
    "end"
   ]
  },
  {
   "cell_type": "markdown",
   "metadata": {},
   "source": [
    "こちらも``end``が必要です。。\n",
    "Python と同じ形のfor (他言語のforeach)もできて、"
   ]
  },
  {
   "cell_type": "code",
   "execution_count": null,
   "metadata": {},
   "outputs": [],
   "source": [
    "li = [1,2,3]\n",
    "for el in li\n",
    "    println(el)\n",
    "end"
   ]
  },
  {
   "cell_type": "markdown",
   "metadata": {},
   "source": [
    "です\n",
    "。"
   ]
  },
  {
   "cell_type": "markdown",
   "metadata": {},
   "source": [
    "### function\n",
    "\n",
    "複数の処理をまとめておいたり、共通化するには、\n",
    "``function``を使えば良いです。これはpython の``def ``に対応します。\n",
    "\n",
    "たとえば2乗を計算する関数は、"
   ]
  },
  {
   "cell_type": "code",
   "execution_count": null,
   "metadata": {},
   "outputs": [],
   "source": [
    "function square(x)\n",
    "    y=x^2\n",
    "    return y\n",
    "end\n",
    "println(\"1^2 = $(square(1))\")\n",
    "println(\"2^2 = $(square(2))\")"
   ]
  },
  {
   "cell_type": "markdown",
   "metadata": {},
   "source": [
    "とできます。これはJulia のコードの高速化のテクニックであるが、\n",
    "トップレベル(functionなどで囲まれていない部分)での処理は避けて、functionでくるむというのがよいです。\n",
    "\n",
    "たとえば下記は実行速度の比較である。(@time マクロで速度計測ができる。)"
   ]
  },
  {
   "cell_type": "code",
   "execution_count": null,
   "metadata": {},
   "outputs": [],
   "source": [
    "Nrepeat=10^7*2\n",
    "A = collect(1:100) #1から1000までを配列として代入。 \n",
    "@time begin\n",
    "    for i=1:Nrepeat\n",
    "        K = sum(A)\n",
    "    end\n",
    "end\n",
    "function calc_sum(A)\n",
    "    for i=1:Nrepeat\n",
    "        K = sum(A)\n",
    "    end\n",
    "end\n",
    "#\n",
    "@time calc_sum(A)"
   ]
  },
  {
   "cell_type": "markdown",
   "metadata": {},
   "source": [
    "上から順に、トップレベルの処理(をbegin-endブロックで囲んだもの)、function で包んだ和です。\n",
    "\n",
    "今の例だと差はわずかですが、本格的な計算の場合には差はより拡大します。\n",
    "簡単なJulia のプログラムの書き方として、\n",
    "\n",
    "1. とりあえずトップレベルに書く\n",
    "2. それをfunction でくるみ、直後に呼び出す形にする。\n",
    "3. 関数内で型が変わらないように工夫する。\n",
    "\n",
    "のようにすると型推論の意味でうまく行きやすいです。\n",
    "\n",
    "またグローバル変数はなるべく避けたほうが良いでしょう。グローバルな定数を使う場合には``const a=1``などとして、値が変わらないことを明示すべきです。"
   ]
  },
  {
   "cell_type": "markdown",
   "metadata": {},
   "source": [
    "また、関数は、\n",
    "```\n",
    "f(x) = x^2\n",
    "```\n",
    "のように数学の関数のようにも定義できます。"
   ]
  },
  {
   "cell_type": "markdown",
   "metadata": {},
   "source": [
    "## プロット (2024年版)\n",
    "\n",
    "ここでは、``Plots.jl``を使って作図を行います。これはJulia のプロットライブラリです。\n",
    "ここでは紹介しませんが、``PyPlot``も使えます。"
   ]
  },
  {
   "cell_type": "code",
   "execution_count": null,
   "metadata": {},
   "outputs": [],
   "source": [
    "using Plots"
   ]
  },
  {
   "cell_type": "markdown",
   "metadata": {},
   "source": [
    "ここで、``using`` はライブラリを呼び出す命令です。 \n",
    "ここで``using HOGE: fuga `` とすると、HOGE モジュールからfuga だけ使えます。\n",
    "もし、``using PyPlot`` とするなら以下のコードで``plt.``の部分が省略できます。\n",
    "\n",
    "Ref. [Juliaのusingとimportについて](https://qiita.com/cometscome_phys/items/5c98aef4c10a8a575f81)\n",
    "\n",
    "Ref. [The Comprehensive Julia Tutorial - 6 - Modules\n",
    "](https://www.youtube.com/watch?v=-0lBmYanICo&feature=emb_title)\n",
    "\n",
    "Ref. [Using vs import](https://towardsdatascience.com/how-to-use-modules-in-julia-a27e31974b9c)\n",
    "\n",
    "例として``sin(x)``のプロットをしてみましょう。"
   ]
  },
  {
   "cell_type": "code",
   "execution_count": null,
   "metadata": {},
   "outputs": [],
   "source": [
    "x=0:0.1:2π # 0から2πまで0.1刻みの変数を用意する。\n",
    "p = plot(x, sin.(x) ,label=nothing) # sin.(x)は、xの各要素でsin(x)を計算。\n",
    "plot!(xlabel=raw\"$x$\", ylabel=raw\"$\\sin x$\") #LaTeX 記法を使うため、raw をつける。\n",
    "display(p)"
   ]
  },
  {
   "cell_type": "markdown",
   "metadata": {},
   "source": [
    "ここで、1行目のcollect は、配列をつくる関数、``:``が3つ並んだものは、スタート:ステップ:最終値という形で指定できる、数列をつくる機能です。\n",
    "2行目のsin.(x)の.は、各要素に作用させるという意味で、Puthonでいうところのユニバーサル関数です。"
   ]
  },
  {
   "cell_type": "markdown",
   "metadata": {},
   "source": [
    "エラーバー付きのプロットも、python と同様に、"
   ]
  },
  {
   "cell_type": "code",
   "execution_count": null,
   "metadata": {},
   "outputs": [],
   "source": [
    "using Random\n",
    "Ndata = 10\n",
    "x=range(0,1,length=Ndata)\n",
    "y=2x\n",
    "# ここでは乱数を振って誤差の代わりにする。\n",
    "e=rand(Float64,Ndata)/10 .+ 0.05 # \".+\" 演算子は各要素に加算を行う。\n",
    "#\n",
    "plot(x,y,yerr=e,xlabel=raw\"$x$\")"
   ]
  },
  {
   "cell_type": "markdown",
   "metadata": {},
   "source": [
    "とできます。ここで``rand()``は0から1の乱数をつくる関数であり、型と要素数を指定して使用できます。\n",
    "また引数無しで実行すると1つづつ乱数を生成できます。"
   ]
  },
  {
   "cell_type": "code",
   "execution_count": null,
   "metadata": {
    "scrolled": true
   },
   "outputs": [],
   "source": [
    "for i =1:5\n",
    "    r=rand()\n",
    "    println(\"r=$r\")\n",
    "end"
   ]
  },
  {
   "cell_type": "markdown",
   "metadata": {},
   "source": [
    "ヒストグラムもかけます。"
   ]
  },
  {
   "cell_type": "code",
   "execution_count": null,
   "metadata": {},
   "outputs": [],
   "source": [
    "x=randn(10000)\n",
    "histogram(x,bins=100,xlabel=raw\"$x$\")"
   ]
  },
  {
   "cell_type": "markdown",
   "metadata": {},
   "source": [
    "ここで``randn()``は正規分布に従う乱数を生成する関数です。"
   ]
  },
  {
   "cell_type": "markdown",
   "metadata": {},
   "source": [
    "## Numpyをつかう\n",
    "\n",
    "ここでは、Pythonのライブラリをつかう``PyCall``の例としてNumpy をよびだしてみましょう。\n",
    "\n",
    "Pycall のインストール等は、https://qiita.com/yatra9/items/0a1a9a5ba19e9efe08c0 を参照。"
   ]
  },
  {
   "cell_type": "code",
   "execution_count": null,
   "metadata": {},
   "outputs": [],
   "source": [
    "import Pkg; Pkg.add(\"PyCall\")"
   ]
  },
  {
   "cell_type": "code",
   "execution_count": null,
   "metadata": {},
   "outputs": [],
   "source": [
    "using PyCall\n",
    "np=pyimport(\"numpy\");"
   ]
  },
  {
   "cell_type": "markdown",
   "metadata": {},
   "source": [
    "このようにすると、Python と同じように``np.hoge``などとするとnumpy の機能を使えます。\n",
    "\n",
    "たとえば、数列をつくる``linspace ``をつかうなら、"
   ]
  },
  {
   "cell_type": "code",
   "execution_count": null,
   "metadata": {},
   "outputs": [],
   "source": [
    "np.linspace(0,1,5)"
   ]
  },
  {
   "cell_type": "markdown",
   "metadata": {},
   "source": [
    "とすれば良いです。また``np.loadtxt``などもつかえるため、``numpy``の高機能なload, save をつかうことができます。"
   ]
  },
  {
   "cell_type": "markdown",
   "metadata": {},
   "source": [
    "# 簡単な数値計算\n",
    "\n",
    "以下では、簡単な数値計算の実例として、微分方程式を解くオイラー法、そして積分をする手法であるモンテカルロ積分を紹介します。"
   ]
  },
  {
   "cell_type": "markdown",
   "metadata": {},
   "source": [
    "## オイラー法\n",
    "\n",
    "オイラー法とは、微分方程式\n",
    "\n",
    "$$\n",
    "\\frac{dx(t)}{dt} = \\cdots\n",
    "$$\n",
    "\n",
    "などを解く、簡単(だが精度の悪い)手法です。この他にルンゲクッタ法やシンプレクティック積分法などがありますが割愛します。"
   ]
  },
  {
   "cell_type": "markdown",
   "metadata": {},
   "source": [
    "オイラー法は、上の微分方程式の左辺を離散化し、\n",
    "\n",
    "$$\n",
    "\\frac{x(t+h)-x(t)}{h} = \\cdots\n",
    "$$\n",
    "\n",
    "とし、hを両辺にかけて、\n",
    "\n",
    "$$\n",
    "x(t+h)-x(t) = (\\cdots)\\times h\n",
    "$$\n",
    "\n",
    "そして$x(t+h)$についてといて　\n",
    "\n",
    "$$\n",
    "x(t+h) = x(t) + (\\cdots)\\times h\n",
    "$$\n",
    "\n",
    "として、小さい$h$ずつ$x$を進めて求めていく手法です。"
   ]
  },
  {
   "cell_type": "markdown",
   "metadata": {},
   "source": [
    "ここでは、\n",
    "\n",
    "\n",
    "$$\n",
    "\\frac{dx}{dt} = -4(t-1)x\n",
    "$$\n",
    "\n",
    "を$x(t)$について解きます。\n",
    "初期条件は、$t=0$で$x(t=0)=e^{-2}$とします。\n",
    "積分区間は、$0<t<1$、ステップ幅は$h=0.1$とします。"
   ]
  },
  {
   "cell_type": "markdown",
   "metadata": {},
   "source": [
    "ここでJulia の機能の一つを導入します。\n",
    "``\\euler``とREPL かセルの中に入れてJupyter でtab キーをおすと\n",
    "``ℯ``が入力できます。``ℯ``は``e``とは異なりネイピア数という数学定数を表します。"
   ]
  },
  {
   "cell_type": "code",
   "execution_count": null,
   "metadata": {},
   "outputs": [],
   "source": [
    "ℯ"
   ]
  },
  {
   "cell_type": "markdown",
   "metadata": {},
   "source": [
    "以下で実際のオイラー法を実装、実行、プロットして見ましょう。"
   ]
  },
  {
   "cell_type": "code",
   "execution_count": null,
   "metadata": {},
   "outputs": [],
   "source": [
    "using Plots #上でインポート済みですが、単独のセルで実行できるように。\n",
    "\n",
    "#\n",
    "# Plot Exact solution\n",
    "t_plot=collect(0:0.05:1)\n",
    "x_plot=ℯ.^(-2*(t_plot.-1).^2)\n",
    "p=plot(t_plot,x_plot,label=\"Exact\")\n",
    "#\n",
    "function eular_method(x_init,tmin,tmax;h,line) #引数内のセミコロン; はキーワード引数と呼ばれる機能で変数名をキーワードに指定して関数を定義できる。\n",
    "    Nmax = Int((tmax-tmin)/h) # Int(...) とすると整数型に型をキャストできる。\n",
    "    x = x_init\n",
    "    t_plot=Float64[0.0]\n",
    "    x_plot=Float64[x]\n",
    "    for it=1:Nmax\n",
    "        t=tmin+it*h\n",
    "        x=x-4.0*(t-1.0)*x*h\n",
    "        append!(t_plot,t)\n",
    "        append!(x_plot,x)\n",
    "    end\n",
    "    if line\n",
    "        plot!(p,t_plot,x_plot,label=\"Euler h=$h\",color=\"red\")\n",
    "    else\n",
    "        scatter!(p,t_plot,x_plot,label=\"Euler h=$h\",markershape=:circle)\n",
    "    end\n",
    "end\n",
    "eular_method(ℯ^(-2),0.0,1.0,h=0.1,line=false)\n",
    "eular_method(ℯ^(-2),0.0,1.0,h=0.01,line=false)\n",
    "eular_method(ℯ^(-2),0.0,1.0,h=0.001,line=true)\n",
    "#\n",
    "plot!(p,\n",
    "ylabel=raw\"$x(t)$\",\n",
    "xlabel=raw\"$t$\",\n",
    "yrange=(0,1.2)\n",
    ")\n",
    "p"
   ]
  },
  {
   "cell_type": "markdown",
   "metadata": {},
   "source": [
    "## モンテカルロ積分"
   ]
  },
  {
   "cell_type": "markdown",
   "metadata": {},
   "source": [
    "ここでは、モンテカルロ積分を行って、円周率の近似値を求めます。\n",
    "\n",
    "以下の方法は、半径1の円の第一象限の面積と第一象限にある1辺の長さが1の正方形の面積比が$π/4$になることに基づいています。\n",
    "\n",
    "モンテカルロ法の誤差は試行回数$N$とし時に一般に$O(1/\\sqrt{N})$となるため、誤差は比較的大きいです。"
   ]
  },
  {
   "cell_type": "code",
   "execution_count": null,
   "metadata": {},
   "outputs": [],
   "source": [
    "using Plots #上でインポート済みであるが、単独のセルで実行できるように。\n",
    "\n",
    "p=plot()\n",
    "function montecarlo_pi(p,Nmax=10) #引数内の=は、デフォルト引数と呼ばれる。何も指定しないときに自動的に使われる。\n",
    "    cnt = 0\n",
    "    x_plot=[]\n",
    "    y_plot=[]\n",
    "    for i=1:Nmax\n",
    "        x=rand()\n",
    "        y=rand()\n",
    "        if x^2+y^2 < 1\n",
    "            cnt+=1\n",
    "        end\n",
    "        append!(x_plot,x)\n",
    "        append!(y_plot,y)\n",
    "    end\n",
    "    scatter!(p,x_plot,y_plot,label=\"Monte-carlo N=$Nmax\",markershape=:circle,alpha=0.5)\n",
    "    return cnt/Nmax*4 # pi = 4*(pi/4)\n",
    "end\n",
    "pi10=montecarlo_pi(p)\n",
    "println(\"pi10=$pi10\")\n",
    "pi500=montecarlo_pi(p,500)\n",
    "println(\"pi500=$pi500\")\n",
    "\n",
    "θ = collect(0:0.1:π/2)\n",
    "x_plot = cos.(θ)\n",
    "y_plot = sin.(θ)\n",
    "plot!(p,x_plot,y_plot,color=\"red\")\n",
    "#\n",
    "plot!(p,aspect_ratio =1,\n",
    "xrange=(-0.05,1.5),\n",
    "yrange=(-0.05,1.5)\n",
    ")\n",
    "p"
   ]
  },
  {
   "cell_type": "markdown",
   "metadata": {},
   "source": [
    "## 線形代数\n",
    "\n",
    "詳細は触れませんが、線形代数の演算も可能です。その際には、\n",
    "LinearAlgebra をロードします。"
   ]
  },
  {
   "cell_type": "code",
   "execution_count": null,
   "metadata": {},
   "outputs": [],
   "source": [
    "using LinearAlgebra"
   ]
  },
  {
   "cell_type": "markdown",
   "metadata": {},
   "source": [
    "代表的なものは下記の通りです。"
   ]
  },
  {
   "cell_type": "code",
   "execution_count": null,
   "metadata": {},
   "outputs": [],
   "source": [
    "# トレース\n",
    "A = [\n",
    "    1 0\n",
    "    0 2\n",
    "]\n",
    "println(\"tr(A)=$(tr(A))\")"
   ]
  },
  {
   "cell_type": "code",
   "execution_count": null,
   "metadata": {},
   "outputs": [],
   "source": [
    "# 逆行列\n",
    "A = [\n",
    "    1 0\n",
    "    0 2\n",
    "]\n",
    "println(\"inv(A)=$(inv(A))\")"
   ]
  },
  {
   "cell_type": "code",
   "execution_count": null,
   "metadata": {},
   "outputs": [],
   "source": [
    "# デターミナント(行列式)\n",
    "A = [\n",
    "    1 0\n",
    "    0 2\n",
    "]\n",
    "println(\"det(A)=$(det(A))\")"
   ]
  },
  {
   "cell_type": "markdown",
   "metadata": {},
   "source": [
    "これでJulia の入門は終わりです。\n",
    "ここから先は参考文献などをもとに学習を進めてください。\n",
    "\n",
    "良いJulia ライフを!"
   ]
  }
 ],
 "metadata": {
  "kernelspec": {
   "display_name": "Julia 1.11.1",
   "language": "julia",
   "name": "julia-1.11"
  },
  "language_info": {
   "file_extension": ".jl",
   "mimetype": "application/julia",
   "name": "julia",
   "version": "1.11.1"
  }
 },
 "nbformat": 4,
 "nbformat_minor": 2
}
